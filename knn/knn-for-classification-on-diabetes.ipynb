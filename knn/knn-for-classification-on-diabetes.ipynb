{
 "cells": [
  {
   "cell_type": "code",
   "execution_count": 176,
   "id": "fa7800dd",
   "metadata": {
    "execution": {
     "iopub.execute_input": "2022-10-12T06:13:40.256055Z",
     "iopub.status.busy": "2022-10-12T06:13:40.254735Z",
     "iopub.status.idle": "2022-10-12T06:13:41.261825Z",
     "shell.execute_reply": "2022-10-12T06:13:41.260911Z"
    },
    "papermill": {
     "duration": 1.022338,
     "end_time": "2022-10-12T06:13:41.264459",
     "exception": false,
     "start_time": "2022-10-12T06:13:40.242121",
     "status": "completed"
    },
    "tags": []
   },
   "outputs": [],
   "source": [
    "#1. import all necessary libraries\n",
    "import pandas as pd\n",
    "import numpy as np\n",
    "import matplotlib.pyplot as plt\n",
    "plt.style.use('ggplot')\n",
    "import seaborn as sns\n",
    "sns.set()\n",
    "import warnings\n",
    "warnings.filterwarnings('ignore')\n",
    "%matplotlib inline"
   ]
  },
  {
   "cell_type": "markdown",
   "id": "6be644af",
   "metadata": {
    "papermill": {
     "duration": 0.010817,
     "end_time": "2022-10-12T06:13:41.288160",
     "exception": false,
     "start_time": "2022-10-12T06:13:41.277343",
     "status": "completed"
    },
    "tags": []
   },
   "source": [
    "1. **Preparing and loading the data**"
   ]
  },
  {
   "cell_type": "code",
   "execution_count": 177,
   "id": "21dbc6a4",
   "metadata": {
    "execution": {
     "iopub.execute_input": "2022-10-12T06:13:41.312457Z",
     "iopub.status.busy": "2022-10-12T06:13:41.311518Z",
     "iopub.status.idle": "2022-10-12T06:13:41.356179Z",
     "shell.execute_reply": "2022-10-12T06:13:41.354576Z"
    },
    "papermill": {
     "duration": 0.060087,
     "end_time": "2022-10-12T06:13:41.359286",
     "exception": false,
     "start_time": "2022-10-12T06:13:41.299199",
     "status": "completed"
    },
    "tags": []
   },
   "outputs": [
    {
     "data": {
      "text/html": [
       "<div>\n",
       "<style scoped>\n",
       "    .dataframe tbody tr th:only-of-type {\n",
       "        vertical-align: middle;\n",
       "    }\n",
       "\n",
       "    .dataframe tbody tr th {\n",
       "        vertical-align: top;\n",
       "    }\n",
       "\n",
       "    .dataframe thead th {\n",
       "        text-align: right;\n",
       "    }\n",
       "</style>\n",
       "<table border=\"1\" class=\"dataframe\">\n",
       "  <thead>\n",
       "    <tr style=\"text-align: right;\">\n",
       "      <th></th>\n",
       "      <th>Pregnancies</th>\n",
       "      <th>Glucose</th>\n",
       "      <th>BloodPressure</th>\n",
       "      <th>SkinThickness</th>\n",
       "      <th>Insulin</th>\n",
       "      <th>BMI</th>\n",
       "      <th>DiabetesPedigreeFunction</th>\n",
       "      <th>Age</th>\n",
       "      <th>Outcome</th>\n",
       "    </tr>\n",
       "  </thead>\n",
       "  <tbody>\n",
       "    <tr>\n",
       "      <th>0</th>\n",
       "      <td>6</td>\n",
       "      <td>148</td>\n",
       "      <td>72</td>\n",
       "      <td>35</td>\n",
       "      <td>0</td>\n",
       "      <td>33.6</td>\n",
       "      <td>0.627</td>\n",
       "      <td>50</td>\n",
       "      <td>1</td>\n",
       "    </tr>\n",
       "    <tr>\n",
       "      <th>1</th>\n",
       "      <td>1</td>\n",
       "      <td>85</td>\n",
       "      <td>66</td>\n",
       "      <td>29</td>\n",
       "      <td>0</td>\n",
       "      <td>26.6</td>\n",
       "      <td>0.351</td>\n",
       "      <td>31</td>\n",
       "      <td>0</td>\n",
       "    </tr>\n",
       "    <tr>\n",
       "      <th>2</th>\n",
       "      <td>8</td>\n",
       "      <td>183</td>\n",
       "      <td>64</td>\n",
       "      <td>0</td>\n",
       "      <td>0</td>\n",
       "      <td>23.3</td>\n",
       "      <td>0.672</td>\n",
       "      <td>32</td>\n",
       "      <td>1</td>\n",
       "    </tr>\n",
       "    <tr>\n",
       "      <th>3</th>\n",
       "      <td>1</td>\n",
       "      <td>89</td>\n",
       "      <td>66</td>\n",
       "      <td>23</td>\n",
       "      <td>94</td>\n",
       "      <td>28.1</td>\n",
       "      <td>0.167</td>\n",
       "      <td>21</td>\n",
       "      <td>0</td>\n",
       "    </tr>\n",
       "    <tr>\n",
       "      <th>4</th>\n",
       "      <td>0</td>\n",
       "      <td>137</td>\n",
       "      <td>40</td>\n",
       "      <td>35</td>\n",
       "      <td>168</td>\n",
       "      <td>43.1</td>\n",
       "      <td>2.288</td>\n",
       "      <td>33</td>\n",
       "      <td>1</td>\n",
       "    </tr>\n",
       "    <tr>\n",
       "      <th>5</th>\n",
       "      <td>5</td>\n",
       "      <td>116</td>\n",
       "      <td>74</td>\n",
       "      <td>0</td>\n",
       "      <td>0</td>\n",
       "      <td>25.6</td>\n",
       "      <td>0.201</td>\n",
       "      <td>30</td>\n",
       "      <td>0</td>\n",
       "    </tr>\n",
       "    <tr>\n",
       "      <th>6</th>\n",
       "      <td>3</td>\n",
       "      <td>78</td>\n",
       "      <td>50</td>\n",
       "      <td>32</td>\n",
       "      <td>88</td>\n",
       "      <td>31.0</td>\n",
       "      <td>0.248</td>\n",
       "      <td>26</td>\n",
       "      <td>1</td>\n",
       "    </tr>\n",
       "    <tr>\n",
       "      <th>7</th>\n",
       "      <td>10</td>\n",
       "      <td>115</td>\n",
       "      <td>0</td>\n",
       "      <td>0</td>\n",
       "      <td>0</td>\n",
       "      <td>35.3</td>\n",
       "      <td>0.134</td>\n",
       "      <td>29</td>\n",
       "      <td>0</td>\n",
       "    </tr>\n",
       "    <tr>\n",
       "      <th>8</th>\n",
       "      <td>2</td>\n",
       "      <td>197</td>\n",
       "      <td>70</td>\n",
       "      <td>45</td>\n",
       "      <td>543</td>\n",
       "      <td>30.5</td>\n",
       "      <td>0.158</td>\n",
       "      <td>53</td>\n",
       "      <td>1</td>\n",
       "    </tr>\n",
       "    <tr>\n",
       "      <th>9</th>\n",
       "      <td>8</td>\n",
       "      <td>125</td>\n",
       "      <td>96</td>\n",
       "      <td>0</td>\n",
       "      <td>0</td>\n",
       "      <td>0.0</td>\n",
       "      <td>0.232</td>\n",
       "      <td>54</td>\n",
       "      <td>1</td>\n",
       "    </tr>\n",
       "    <tr>\n",
       "      <th>10</th>\n",
       "      <td>4</td>\n",
       "      <td>110</td>\n",
       "      <td>92</td>\n",
       "      <td>0</td>\n",
       "      <td>0</td>\n",
       "      <td>37.6</td>\n",
       "      <td>0.191</td>\n",
       "      <td>30</td>\n",
       "      <td>0</td>\n",
       "    </tr>\n",
       "    <tr>\n",
       "      <th>11</th>\n",
       "      <td>10</td>\n",
       "      <td>168</td>\n",
       "      <td>74</td>\n",
       "      <td>0</td>\n",
       "      <td>0</td>\n",
       "      <td>38.0</td>\n",
       "      <td>0.537</td>\n",
       "      <td>34</td>\n",
       "      <td>1</td>\n",
       "    </tr>\n",
       "    <tr>\n",
       "      <th>12</th>\n",
       "      <td>10</td>\n",
       "      <td>139</td>\n",
       "      <td>80</td>\n",
       "      <td>0</td>\n",
       "      <td>0</td>\n",
       "      <td>27.1</td>\n",
       "      <td>1.441</td>\n",
       "      <td>57</td>\n",
       "      <td>0</td>\n",
       "    </tr>\n",
       "    <tr>\n",
       "      <th>13</th>\n",
       "      <td>1</td>\n",
       "      <td>189</td>\n",
       "      <td>60</td>\n",
       "      <td>23</td>\n",
       "      <td>846</td>\n",
       "      <td>30.1</td>\n",
       "      <td>0.398</td>\n",
       "      <td>59</td>\n",
       "      <td>1</td>\n",
       "    </tr>\n",
       "    <tr>\n",
       "      <th>14</th>\n",
       "      <td>5</td>\n",
       "      <td>166</td>\n",
       "      <td>72</td>\n",
       "      <td>19</td>\n",
       "      <td>175</td>\n",
       "      <td>25.8</td>\n",
       "      <td>0.587</td>\n",
       "      <td>51</td>\n",
       "      <td>1</td>\n",
       "    </tr>\n",
       "  </tbody>\n",
       "</table>\n",
       "</div>"
      ],
      "text/plain": [
       "    Pregnancies  Glucose  BloodPressure  SkinThickness  Insulin   BMI  \\\n",
       "0             6      148             72             35        0  33.6   \n",
       "1             1       85             66             29        0  26.6   \n",
       "2             8      183             64              0        0  23.3   \n",
       "3             1       89             66             23       94  28.1   \n",
       "4             0      137             40             35      168  43.1   \n",
       "5             5      116             74              0        0  25.6   \n",
       "6             3       78             50             32       88  31.0   \n",
       "7            10      115              0              0        0  35.3   \n",
       "8             2      197             70             45      543  30.5   \n",
       "9             8      125             96              0        0   0.0   \n",
       "10            4      110             92              0        0  37.6   \n",
       "11           10      168             74              0        0  38.0   \n",
       "12           10      139             80              0        0  27.1   \n",
       "13            1      189             60             23      846  30.1   \n",
       "14            5      166             72             19      175  25.8   \n",
       "\n",
       "    DiabetesPedigreeFunction  Age  Outcome  \n",
       "0                      0.627   50        1  \n",
       "1                      0.351   31        0  \n",
       "2                      0.672   32        1  \n",
       "3                      0.167   21        0  \n",
       "4                      2.288   33        1  \n",
       "5                      0.201   30        0  \n",
       "6                      0.248   26        1  \n",
       "7                      0.134   29        0  \n",
       "8                      0.158   53        1  \n",
       "9                      0.232   54        1  \n",
       "10                     0.191   30        0  \n",
       "11                     0.537   34        1  \n",
       "12                     1.441   57        0  \n",
       "13                     0.398   59        1  \n",
       "14                     0.587   51        1  "
      ]
     },
     "execution_count": 177,
     "metadata": {},
     "output_type": "execute_result"
    }
   ],
   "source": [
    "#2. Loading the dataset\n",
    "diabetes_data = pd.read_csv('diabetes.csv')\n",
    "\n",
    "diabetes_data.head(15)"
   ]
  },
  {
   "cell_type": "markdown",
   "id": "abeababa",
   "metadata": {
    "papermill": {
     "duration": 0.012147,
     "end_time": "2022-10-12T06:13:41.383556",
     "exception": false,
     "start_time": "2022-10-12T06:13:41.371409",
     "status": "completed"
    },
    "tags": []
   },
   "source": [
    "Also I used diabetes_data.sample() because .sample() picksa up rows randomly that's why we get non bised view. Now we can see data types and brief statistical summary."
   ]
  },
  {
   "cell_type": "markdown",
   "id": "a4bb2ffe",
   "metadata": {
    "papermill": {
     "duration": 0.011593,
     "end_time": "2022-10-12T06:13:41.408285",
     "exception": false,
     "start_time": "2022-10-12T06:13:41.396692",
     "status": "completed"
    },
    "tags": []
   },
   "source": [
    "1.  **Basic EDA and Statistical Analysis**"
   ]
  },
  {
   "cell_type": "code",
   "execution_count": 178,
   "id": "a83ff541",
   "metadata": {
    "execution": {
     "iopub.execute_input": "2022-10-12T06:13:41.478437Z",
     "iopub.status.busy": "2022-10-12T06:13:41.477560Z",
     "iopub.status.idle": "2022-10-12T06:13:41.482269Z",
     "shell.execute_reply": "2022-10-12T06:13:41.481182Z"
    },
    "papermill": {
     "duration": 0.019741,
     "end_time": "2022-10-12T06:13:41.484301",
     "exception": false,
     "start_time": "2022-10-12T06:13:41.464560",
     "status": "completed"
    },
    "tags": []
   },
   "outputs": [],
   "source": [
    "#4. Getting dataframe columns names\n",
    "df_name=diabetes_data.columns"
   ]
  },
  {
   "cell_type": "code",
   "execution_count": 179,
   "id": "771a33e5",
   "metadata": {
    "execution": {
     "iopub.execute_input": "2022-10-12T06:13:41.826250Z",
     "iopub.status.busy": "2022-10-12T06:13:41.825543Z",
     "iopub.status.idle": "2022-10-12T06:13:41.840633Z",
     "shell.execute_reply": "2022-10-12T06:13:41.839357Z"
    },
    "papermill": {
     "duration": 0.031379,
     "end_time": "2022-10-12T06:13:41.843342",
     "exception": false,
     "start_time": "2022-10-12T06:13:41.811963",
     "status": "completed"
    },
    "tags": []
   },
   "outputs": [
    {
     "name": "stdout",
     "output_type": "stream",
     "text": [
      "Count of zero entries\n"
     ]
    },
    {
     "data": {
      "text/html": [
       "<div>\n",
       "<style scoped>\n",
       "    .dataframe tbody tr th:only-of-type {\n",
       "        vertical-align: middle;\n",
       "    }\n",
       "\n",
       "    .dataframe tbody tr th {\n",
       "        vertical-align: top;\n",
       "    }\n",
       "\n",
       "    .dataframe thead th {\n",
       "        text-align: right;\n",
       "    }\n",
       "</style>\n",
       "<table border=\"1\" class=\"dataframe\">\n",
       "  <thead>\n",
       "    <tr style=\"text-align: right;\">\n",
       "      <th></th>\n",
       "      <th>zeroCount</th>\n",
       "    </tr>\n",
       "  </thead>\n",
       "  <tbody>\n",
       "    <tr>\n",
       "      <th>Pregnancies</th>\n",
       "      <td>111</td>\n",
       "    </tr>\n",
       "    <tr>\n",
       "      <th>Glucose</th>\n",
       "      <td>5</td>\n",
       "    </tr>\n",
       "    <tr>\n",
       "      <th>BloodPressure</th>\n",
       "      <td>35</td>\n",
       "    </tr>\n",
       "    <tr>\n",
       "      <th>SkinThickness</th>\n",
       "      <td>227</td>\n",
       "    </tr>\n",
       "    <tr>\n",
       "      <th>Insulin</th>\n",
       "      <td>374</td>\n",
       "    </tr>\n",
       "    <tr>\n",
       "      <th>BMI</th>\n",
       "      <td>11</td>\n",
       "    </tr>\n",
       "  </tbody>\n",
       "</table>\n",
       "</div>"
      ],
      "text/plain": [
       "               zeroCount\n",
       "Pregnancies          111\n",
       "Glucose                5\n",
       "BloodPressure         35\n",
       "SkinThickness        227\n",
       "Insulin              374\n",
       "BMI                   11"
      ]
     },
     "execution_count": 179,
     "metadata": {},
     "output_type": "execute_result"
    }
   ],
   "source": [
    "#11. to Count zero entries\n",
    "print(\"Count of zero entries\") \n",
    "colsToModify = ['Pregnancies', 'Glucose', 'BloodPressure', 'SkinThickness', 'Insulin', 'BMI',]\n",
    "val = []\n",
    "for col in colsToModify:\n",
    "  val.append(len(diabetes_data[diabetes_data[col] == 0]))\n",
    "zeroCount = pd.DataFrame(val, index = colsToModify, columns = ['zeroCount'])\n",
    "zeroCount"
   ]
  },
  {
   "cell_type": "code",
   "execution_count": 180,
   "id": "9632637a",
   "metadata": {
    "execution": {
     "iopub.execute_input": "2022-10-12T06:13:43.959945Z",
     "iopub.status.busy": "2022-10-12T06:13:43.959537Z",
     "iopub.status.idle": "2022-10-12T06:13:43.987096Z",
     "shell.execute_reply": "2022-10-12T06:13:43.985905Z"
    },
    "papermill": {
     "duration": 0.04491,
     "end_time": "2022-10-12T06:13:43.989451",
     "exception": false,
     "start_time": "2022-10-12T06:13:43.944541",
     "status": "completed"
    },
    "tags": []
   },
   "outputs": [
    {
     "data": {
      "text/html": [
       "<div>\n",
       "<style scoped>\n",
       "    .dataframe tbody tr th:only-of-type {\n",
       "        vertical-align: middle;\n",
       "    }\n",
       "\n",
       "    .dataframe tbody tr th {\n",
       "        vertical-align: top;\n",
       "    }\n",
       "\n",
       "    .dataframe thead th {\n",
       "        text-align: right;\n",
       "    }\n",
       "</style>\n",
       "<table border=\"1\" class=\"dataframe\">\n",
       "  <thead>\n",
       "    <tr style=\"text-align: right;\">\n",
       "      <th></th>\n",
       "      <th>Pregnancies</th>\n",
       "      <th>Glucose</th>\n",
       "      <th>BloodPressure</th>\n",
       "      <th>SkinThickness</th>\n",
       "      <th>Insulin</th>\n",
       "      <th>BMI</th>\n",
       "      <th>DiabetesPedigreeFunction</th>\n",
       "      <th>Age</th>\n",
       "      <th>Outcome</th>\n",
       "    </tr>\n",
       "  </thead>\n",
       "  <tbody>\n",
       "    <tr>\n",
       "      <th>0</th>\n",
       "      <td>6.0</td>\n",
       "      <td>148.0</td>\n",
       "      <td>72.0</td>\n",
       "      <td>35.0</td>\n",
       "      <td>155.0</td>\n",
       "      <td>33.6</td>\n",
       "      <td>0.627</td>\n",
       "      <td>50</td>\n",
       "      <td>1</td>\n",
       "    </tr>\n",
       "    <tr>\n",
       "      <th>1</th>\n",
       "      <td>1.0</td>\n",
       "      <td>85.0</td>\n",
       "      <td>66.0</td>\n",
       "      <td>29.0</td>\n",
       "      <td>155.0</td>\n",
       "      <td>26.6</td>\n",
       "      <td>0.351</td>\n",
       "      <td>31</td>\n",
       "      <td>0</td>\n",
       "    </tr>\n",
       "    <tr>\n",
       "      <th>2</th>\n",
       "      <td>8.0</td>\n",
       "      <td>183.0</td>\n",
       "      <td>64.0</td>\n",
       "      <td>29.0</td>\n",
       "      <td>155.0</td>\n",
       "      <td>23.3</td>\n",
       "      <td>0.672</td>\n",
       "      <td>32</td>\n",
       "      <td>1</td>\n",
       "    </tr>\n",
       "    <tr>\n",
       "      <th>3</th>\n",
       "      <td>1.0</td>\n",
       "      <td>89.0</td>\n",
       "      <td>66.0</td>\n",
       "      <td>23.0</td>\n",
       "      <td>94.0</td>\n",
       "      <td>28.1</td>\n",
       "      <td>0.167</td>\n",
       "      <td>21</td>\n",
       "      <td>0</td>\n",
       "    </tr>\n",
       "    <tr>\n",
       "      <th>4</th>\n",
       "      <td>4.0</td>\n",
       "      <td>137.0</td>\n",
       "      <td>40.0</td>\n",
       "      <td>35.0</td>\n",
       "      <td>168.0</td>\n",
       "      <td>43.1</td>\n",
       "      <td>2.288</td>\n",
       "      <td>33</td>\n",
       "      <td>1</td>\n",
       "    </tr>\n",
       "  </tbody>\n",
       "</table>\n",
       "</div>"
      ],
      "text/plain": [
       "   Pregnancies  Glucose  BloodPressure  SkinThickness  Insulin   BMI  \\\n",
       "0          6.0    148.0           72.0           35.0    155.0  33.6   \n",
       "1          1.0     85.0           66.0           29.0    155.0  26.6   \n",
       "2          8.0    183.0           64.0           29.0    155.0  23.3   \n",
       "3          1.0     89.0           66.0           23.0     94.0  28.1   \n",
       "4          4.0    137.0           40.0           35.0    168.0  43.1   \n",
       "\n",
       "   DiabetesPedigreeFunction  Age  Outcome  \n",
       "0                     0.627   50        1  \n",
       "1                     0.351   31        0  \n",
       "2                     0.672   32        1  \n",
       "3                     0.167   21        0  \n",
       "4                     2.288   33        1  "
      ]
     },
     "execution_count": 180,
     "metadata": {},
     "output_type": "execute_result"
    }
   ],
   "source": [
    "#13. Replacing zero value with respective mean vale\n",
    "for col in colsToModify:\n",
    "    diabetes_data[col] = diabetes_data[col].replace(0,np.NaN)\n",
    "    mean = int(diabetes_data[col].mean(skipna = True))\n",
    "    diabetes_data[col] = diabetes_data[col].replace(np.NaN, mean)\n",
    "diabetes_data.head()"
   ]
  },
  {
   "cell_type": "code",
   "execution_count": 181,
   "id": "b3775d18",
   "metadata": {
    "execution": {
     "iopub.execute_input": "2022-10-12T06:13:44.091063Z",
     "iopub.status.busy": "2022-10-12T06:13:44.090130Z",
     "iopub.status.idle": "2022-10-12T06:13:44.100399Z",
     "shell.execute_reply": "2022-10-12T06:13:44.099615Z"
    },
    "papermill": {
     "duration": 0.028142,
     "end_time": "2022-10-12T06:13:44.102471",
     "exception": false,
     "start_time": "2022-10-12T06:13:44.074329",
     "status": "completed"
    },
    "tags": []
   },
   "outputs": [
    {
     "data": {
      "text/plain": [
       "0"
      ]
     },
     "execution_count": 181,
     "metadata": {},
     "output_type": "execute_result"
    }
   ],
   "source": [
    "#15. Menampilkan deskripsi statistik setelah penggantian nilai nol \n",
    "diabetes_data.duplicated().sum()"
   ]
  },
  {
   "cell_type": "markdown",
   "id": "f6ab3e2f",
   "metadata": {
    "papermill": {
     "duration": 0.014909,
     "end_time": "2022-10-12T06:13:46.401072",
     "exception": false,
     "start_time": "2022-10-12T06:13:46.386163",
     "status": "completed"
    },
    "tags": []
   },
   "source": [
    "3. **Data Visuliation**"
   ]
  },
  {
   "cell_type": "code",
   "execution_count": 182,
   "id": "39569f73",
   "metadata": {
    "execution": {
     "iopub.execute_input": "2022-10-12T06:13:46.433442Z",
     "iopub.status.busy": "2022-10-12T06:13:46.433021Z",
     "iopub.status.idle": "2022-10-12T06:13:46.584982Z",
     "shell.execute_reply": "2022-10-12T06:13:46.583706Z"
    },
    "papermill": {
     "duration": 0.171636,
     "end_time": "2022-10-12T06:13:46.587877",
     "exception": false,
     "start_time": "2022-10-12T06:13:46.416241",
     "status": "completed"
    },
    "tags": []
   },
   "outputs": [
    {
     "data": {
      "text/plain": [
       "array([<Axes: ylabel='count'>], dtype=object)"
      ]
     },
     "execution_count": 182,
     "metadata": {},
     "output_type": "execute_result"
    },
    {
     "data": {
      "image/png": "[encoded data removed]",
      "text/plain": [
       "<Figure size 900x900 with 1 Axes>"
      ]
     },
     "metadata": {},
     "output_type": "display_data"
    }
   ],
   "source": [
    "#18. Import library untuk plotting (Matplotlib Style) \n",
    "import matplotlib.style as style\n",
    "style.available\n",
    "\n",
    "style.use('ggplot')\n",
    "labels = [\"Healthy\", \"Diabetic\"]\n",
    "diabetes_data['Outcome'].value_counts().plot(kind='pie',labels=labels, subplots=True,autopct='%1.0f%%', labeldistance=1.2, figsize=(9,9))"
   ]
  },
  {
   "cell_type": "code",
   "execution_count": 183,
   "id": "907f9724",
   "metadata": {
    "execution": {
     "iopub.execute_input": "2022-10-12T06:14:10.051230Z",
     "iopub.status.busy": "2022-10-12T06:14:10.050489Z",
     "iopub.status.idle": "2022-10-12T06:14:10.493118Z",
     "shell.execute_reply": "2022-10-12T06:14:10.492048Z"
    },
    "papermill": {
     "duration": 0.482889,
     "end_time": "2022-10-12T06:14:10.495748",
     "exception": false,
     "start_time": "2022-10-12T06:14:10.012859",
     "status": "completed"
    },
    "tags": []
   },
   "outputs": [
    {
     "data": {
      "text/plain": [
       "<matplotlib.legend.Legend at 0x2bba493aa50>"
      ]
     },
     "execution_count": 183,
     "metadata": {},
     "output_type": "execute_result"
    },
    {
     "data": {
      "image/png": "[encoded data removed]",
      "text/plain": [
       "<Figure size 640x480 with 1 Axes>"
      ]
     },
     "metadata": {},
     "output_type": "display_data"
    }
   ],
   "source": [
    "#24. \n",
    "plt.figure()\n",
    "ax = sns.distplot(diabetes_data['Glucose'][diabetes_data.Outcome == 1], color =\"darkturquoise\", rug = True)\n",
    "sns.distplot(diabetes_data['Glucose'][diabetes_data.Outcome == 0], color =\"lightcoral\", rug = True)\n",
    "plt.legend(['Diabetes', 'No Diabetes'])"
   ]
  },
  {
   "cell_type": "markdown",
   "id": "bfc715c6",
   "metadata": {
    "papermill": {
     "duration": 0.037972,
     "end_time": "2022-10-12T06:14:11.662079",
     "exception": false,
     "start_time": "2022-10-12T06:14:11.624107",
     "status": "completed"
    },
    "tags": []
   },
   "source": [
    "**4. Outlier Detection**"
   ]
  },
  {
   "cell_type": "markdown",
   "id": "8c9edb7c",
   "metadata": {
    "papermill": {
     "duration": 0.039167,
     "end_time": "2022-10-12T06:14:11.739589",
     "exception": false,
     "start_time": "2022-10-12T06:14:11.700422",
     "status": "completed"
    },
    "tags": []
   },
   "source": [
    "from the visulization above "
   ]
  },
  {
   "cell_type": "markdown",
   "id": "cedf8a06",
   "metadata": {
    "papermill": {
     "duration": 0.037885,
     "end_time": "2022-10-12T06:14:11.815533",
     "exception": false,
     "start_time": "2022-10-12T06:14:11.777648",
     "status": "completed"
    },
    "tags": []
   },
   "source": [
    "1. **Suplitting The Data**"
   ]
  },
  {
   "cell_type": "code",
   "execution_count": 184,
   "id": "866a5d50",
   "metadata": {
    "execution": {
     "iopub.execute_input": "2022-10-12T06:14:11.893859Z",
     "iopub.status.busy": "2022-10-12T06:14:11.893061Z",
     "iopub.status.idle": "2022-10-12T06:14:12.090547Z",
     "shell.execute_reply": "2022-10-12T06:14:12.089414Z"
    },
    "papermill": {
     "duration": 0.23966,
     "end_time": "2022-10-12T06:14:12.093243",
     "exception": false,
     "start_time": "2022-10-12T06:14:11.853583",
     "status": "completed"
    },
    "tags": []
   },
   "outputs": [],
   "source": [
    "#27 Import library train_test_split dari sklearn \n",
    "from sklearn.model_selection import train_test_split\n",
    "X =diabetes_data.iloc[:,0:8]\n",
    "y =diabetes_data.iloc[:,8]\n",
    "X_train,X_test,y_train,y_test = train_test_split(X,y,test_size=0.2,random_state=21, stratify = y)"
   ]
  },
  {
   "cell_type": "code",
   "execution_count": 185,
   "id": "2c42e63f",
   "metadata": {
    "execution": {
     "iopub.execute_input": "2022-10-12T06:14:12.173187Z",
     "iopub.status.busy": "2022-10-12T06:14:12.171820Z",
     "iopub.status.idle": "2022-10-12T06:14:12.184609Z",
     "shell.execute_reply": "2022-10-12T06:14:12.183472Z"
    },
    "papermill": {
     "duration": 0.054827,
     "end_time": "2022-10-12T06:14:12.186957",
     "exception": false,
     "start_time": "2022-10-12T06:14:12.132130",
     "status": "completed"
    },
    "tags": []
   },
   "outputs": [],
   "source": [
    "#28. feature Scaling\n",
    "from sklearn.preprocessing import StandardScaler\n",
    "scaler = StandardScaler()\n",
    "X_train = scaler.fit_transform(X_train)\n",
    "X_test = scaler.transform(X_test)"
   ]
  },
  {
   "cell_type": "code",
   "execution_count": 186,
   "id": "1a87585d",
   "metadata": {
    "execution": {
     "iopub.execute_input": "2022-10-12T06:14:12.265313Z",
     "iopub.status.busy": "2022-10-12T06:14:12.264608Z",
     "iopub.status.idle": "2022-10-12T06:14:12.382500Z",
     "shell.execute_reply": "2022-10-12T06:14:12.381332Z"
    },
    "papermill": {
     "duration": 0.160003,
     "end_time": "2022-10-12T06:14:12.385095",
     "exception": false,
     "start_time": "2022-10-12T06:14:12.225092",
     "status": "completed"
    },
    "tags": []
   },
   "outputs": [],
   "source": [
    "#29. \tImport library KNeighborsClassifier dari sklearn \n",
    "from sklearn.neighbors import KNeighborsClassifier\n",
    "classifier = KNeighborsClassifier(n_neighbors=23, p=2, metric='euclidean')"
   ]
  },
  {
   "cell_type": "code",
   "execution_count": 187,
   "id": "25130576",
   "metadata": {
    "execution": {
     "iopub.execute_input": "2022-10-12T06:14:12.461284Z",
     "iopub.status.busy": "2022-10-12T06:14:12.460573Z",
     "iopub.status.idle": "2022-10-12T06:14:12.470316Z",
     "shell.execute_reply": "2022-10-12T06:14:12.469240Z"
    },
    "papermill": {
     "duration": 0.050435,
     "end_time": "2022-10-12T06:14:12.472523",
     "exception": false,
     "start_time": "2022-10-12T06:14:12.422088",
     "status": "completed"
    },
    "tags": []
   },
   "outputs": [
    {
     "data": {
      "text/html": [
       "<style>#sk-container-id-5 {color: black;}#sk-container-id-5 pre{padding: 0;}#sk-container-id-5 div.sk-toggleable {background-color: white;}#sk-container-id-5 label.sk-toggleable__label {cursor: pointer;display: block;width: 100%;margin-bottom: 0;padding: 0.3em;box-sizing: border-box;text-align: center;}#sk-container-id-5 label.sk-toggleable__label-arrow:before {content: \"▸\";float: left;margin-right: 0.25em;color: #696969;}#sk-container-id-5 label.sk-toggleable__label-arrow:hover:before {color: black;}#sk-container-id-5 div.sk-estimator:hover label.sk-toggleable__label-arrow:before {color: black;}#sk-container-id-5 div.sk-toggleable__content {max-height: 0;max-width: 0;overflow: hidden;text-align: left;background-color: #f0f8ff;}#sk-container-id-5 div.sk-toggleable__content pre {margin: 0.2em;color: black;border-radius: 0.25em;background-color: #f0f8ff;}#sk-container-id-5 input.sk-toggleable__control:checked~div.sk-toggleable__content {max-height: 200px;max-width: 100%;overflow: auto;}#sk-container-id-5 input.sk-toggleable__control:checked~label.sk-toggleable__label-arrow:before {content: \"▾\";}#sk-container-id-5 div.sk-estimator input.sk-toggleable__control:checked~label.sk-toggleable__label {background-color: #d4ebff;}#sk-container-id-5 div.sk-label input.sk-toggleable__control:checked~label.sk-toggleable__label {background-color: #d4ebff;}#sk-container-id-5 input.sk-hidden--visually {border: 0;clip: rect(1px 1px 1px 1px);clip: rect(1px, 1px, 1px, 1px);height: 1px;margin: -1px;overflow: hidden;padding: 0;position: absolute;width: 1px;}#sk-container-id-5 div.sk-estimator {font-family: monospace;background-color: #f0f8ff;border: 1px dotted black;border-radius: 0.25em;box-sizing: border-box;margin-bottom: 0.5em;}#sk-container-id-5 div.sk-estimator:hover {background-color: #d4ebff;}#sk-container-id-5 div.sk-parallel-item::after {content: \"\";width: 100%;border-bottom: 1px solid gray;flex-grow: 1;}#sk-container-id-5 div.sk-label:hover label.sk-toggleable__label {background-color: #d4ebff;}#sk-container-id-5 div.sk-serial::before {content: \"\";position: absolute;border-left: 1px solid gray;box-sizing: border-box;top: 0;bottom: 0;left: 50%;z-index: 0;}#sk-container-id-5 div.sk-serial {display: flex;flex-direction: column;align-items: center;background-color: white;padding-right: 0.2em;padding-left: 0.2em;position: relative;}#sk-container-id-5 div.sk-item {position: relative;z-index: 1;}#sk-container-id-5 div.sk-parallel {display: flex;align-items: stretch;justify-content: center;background-color: white;position: relative;}#sk-container-id-5 div.sk-item::before, #sk-container-id-5 div.sk-parallel-item::before {content: \"\";position: absolute;border-left: 1px solid gray;box-sizing: border-box;top: 0;bottom: 0;left: 50%;z-index: -1;}#sk-container-id-5 div.sk-parallel-item {display: flex;flex-direction: column;z-index: 1;position: relative;background-color: white;}#sk-container-id-5 div.sk-parallel-item:first-child::after {align-self: flex-end;width: 50%;}#sk-container-id-5 div.sk-parallel-item:last-child::after {align-self: flex-start;width: 50%;}#sk-container-id-5 div.sk-parallel-item:only-child::after {width: 0;}#sk-container-id-5 div.sk-dashed-wrapped {border: 1px dashed gray;margin: 0 0.4em 0.5em 0.4em;box-sizing: border-box;padding-bottom: 0.4em;background-color: white;}#sk-container-id-5 div.sk-label label {font-family: monospace;font-weight: bold;display: inline-block;line-height: 1.2em;}#sk-container-id-5 div.sk-label-container {text-align: center;}#sk-container-id-5 div.sk-container {/* jupyter's `normalize.less` sets `[hidden] { display: none; }` but bootstrap.min.css set `[hidden] { display: none !important; }` so we also need the `!important` here to be able to override the default hidden behavior on the sphinx rendered scikit-learn.org. See: https://github.com/scikit-learn/scikit-learn/issues/21755 */display: inline-block !important;position: relative;}#sk-container-id-5 div.sk-text-repr-fallback {display: none;}</style><div id=\"sk-container-id-5\" class=\"sk-top-container\"><div class=\"sk-text-repr-fallback\"><pre>KNeighborsClassifier(metric=&#x27;euclidean&#x27;, n_neighbors=23)</pre><b>In a Jupyter environment, please rerun this cell to show the HTML representation or trust the notebook. <br />On GitHub, the HTML representation is unable to render, please try loading this page with nbviewer.org.</b></div><div class=\"sk-container\" hidden><div class=\"sk-item\"><div class=\"sk-estimator sk-toggleable\"><input class=\"sk-toggleable__control sk-hidden--visually\" id=\"sk-estimator-id-5\" type=\"checkbox\" checked><label for=\"sk-estimator-id-5\" class=\"sk-toggleable__label sk-toggleable__label-arrow\">KNeighborsClassifier</label><div class=\"sk-toggleable__content\"><pre>KNeighborsClassifier(metric=&#x27;euclidean&#x27;, n_neighbors=23)</pre></div></div></div></div></div>"
      ],
      "text/plain": [
       "KNeighborsClassifier(metric='euclidean', n_neighbors=23)"
      ]
     },
     "execution_count": 187,
     "metadata": {},
     "output_type": "execute_result"
    }
   ],
   "source": [
    "#30. Melatih model KNN dengan data training \n",
    "classifier.fit(X_train,y_train)"
   ]
  },
  {
   "cell_type": "code",
   "execution_count": 188,
   "id": "e15105f2",
   "metadata": {
    "execution": {
     "iopub.execute_input": "2022-10-12T06:14:12.550040Z",
     "iopub.status.busy": "2022-10-12T06:14:12.548931Z",
     "iopub.status.idle": "2022-10-12T06:14:12.563991Z",
     "shell.execute_reply": "2022-10-12T06:14:12.562912Z"
    },
    "papermill": {
     "duration": 0.056531,
     "end_time": "2022-10-12T06:14:12.566742",
     "exception": false,
     "start_time": "2022-10-12T06:14:12.510211",
     "status": "completed"
    },
    "tags": []
   },
   "outputs": [
    {
     "data": {
      "text/plain": [
       "array([0, 0, 0, 0, 0, 0, 0, 0, 0, 0, 1, 0, 0, 0, 1, 1, 0, 0, 0, 1, 0, 0,\n",
       "       0, 0, 0, 0, 0, 1, 1, 0, 1, 0, 0, 0, 0, 0, 0, 0, 0, 0, 1, 0, 0, 0,\n",
       "       0, 0, 0, 1, 0, 0, 0, 0, 0, 1, 1, 0, 1, 1, 1, 1, 0, 0, 0, 0, 0, 0,\n",
       "       1, 0, 0, 0, 1, 0, 0, 0, 0, 0, 0, 0, 1, 1, 1, 0, 0, 0, 0, 0, 0, 0,\n",
       "       0, 1, 0, 1, 0, 0, 0, 0, 0, 0, 0, 0, 0, 0, 0, 0, 0, 1, 0, 0, 0, 0,\n",
       "       1, 1, 0, 0, 1, 0, 0, 0, 0, 0, 0, 0, 0, 1, 0, 1, 0, 0, 1, 0, 0, 1,\n",
       "       0, 1, 0, 0, 0, 0, 0, 0, 0, 0, 0, 1, 0, 0, 0, 0, 0, 0, 0, 0, 0, 0],\n",
       "      dtype=int64)"
      ]
     },
     "execution_count": 188,
     "metadata": {},
     "output_type": "execute_result"
    }
   ],
   "source": [
    "#31. Memprediksi data uji dengan model KNN \n",
    "y_pred =  classifier.predict(X_test)\n",
    "y_pred"
   ]
  },
  {
   "cell_type": "code",
   "execution_count": 189,
   "id": "0e3674d2",
   "metadata": {
    "execution": {
     "iopub.execute_input": "2022-10-12T06:14:12.643777Z",
     "iopub.status.busy": "2022-10-12T06:14:12.643372Z",
     "iopub.status.idle": "2022-10-12T06:14:12.652584Z",
     "shell.execute_reply": "2022-10-12T06:14:12.651642Z"
    },
    "papermill": {
     "duration": 0.050508,
     "end_time": "2022-10-12T06:14:12.654571",
     "exception": false,
     "start_time": "2022-10-12T06:14:12.604063",
     "status": "completed"
    },
    "tags": []
   },
   "outputs": [
    {
     "data": {
      "text/plain": [
       "array([[90, 10],\n",
       "       [32, 22]], dtype=int64)"
      ]
     },
     "execution_count": 189,
     "metadata": {},
     "output_type": "execute_result"
    }
   ],
   "source": [
    "#32.Import confusion_matrix dari sklearn untuk evaluasi  \n",
    "from sklearn.metrics import confusion_matrix\n",
    "cm= confusion_matrix(y_test,y_pred)\n",
    "cm"
   ]
  },
  {
   "cell_type": "code",
   "execution_count": 190,
   "id": "2957f9c3",
   "metadata": {
    "execution": {
     "iopub.execute_input": "2022-10-12T06:14:12.731997Z",
     "iopub.status.busy": "2022-10-12T06:14:12.730905Z",
     "iopub.status.idle": "2022-10-12T06:14:12.738214Z",
     "shell.execute_reply": "2022-10-12T06:14:12.736799Z"
    },
    "papermill": {
     "duration": 0.048914,
     "end_time": "2022-10-12T06:14:12.741069",
     "exception": false,
     "start_time": "2022-10-12T06:14:12.692155",
     "status": "completed"
    },
    "tags": []
   },
   "outputs": [
    {
     "name": "stdout",
     "output_type": "stream",
     "text": [
      "0.7272727272727273\n"
     ]
    }
   ],
   "source": [
    "#33. Import accuracy_score dari sklearn untuk evaluasi \n",
    "from sklearn.metrics import accuracy_score\n",
    "print(accuracy_score(y_test,y_pred))"
   ]
  },
  {
   "cell_type": "code",
   "execution_count": 191,
   "id": "e18239fc",
   "metadata": {},
   "outputs": [
    {
     "name": "stdout",
     "output_type": "stream",
     "text": [
      "Best n_neighbors: {'n_neighbors': 19}\n",
      "              precision    recall  f1-score   support\n",
      "\n",
      "           0       0.73      0.90      0.81       100\n",
      "           1       0.68      0.39      0.49        54\n",
      "\n",
      "    accuracy                           0.72       154\n",
      "   macro avg       0.70      0.64      0.65       154\n",
      "weighted avg       0.71      0.72      0.70       154\n",
      "\n"
     ]
    }
   ],
   "source": [
    "from sklearn.model_selection import GridSearchCV\n",
    "from sklearn.metrics import classification_report\n",
    "\n",
    "# Define the parameter grid\n",
    "param_grid = {'n_neighbors': np.arange(1, 30)}\n",
    "\n",
    "# Initialize the KNN model\n",
    "knn = KNeighborsClassifier()\n",
    "\n",
    "# Initialize GridSearchCV\n",
    "knn_gscv = GridSearchCV(knn, param_grid, cv=5)\n",
    "\n",
    "# Fit the model\n",
    "knn_gscv.fit(X_train, y_train)\n",
    "\n",
    "# Best parameter\n",
    "print(\"Best n_neighbors:\", knn_gscv.best_params_)\n",
    "\n",
    "# Use the best model\n",
    "best_knn = knn_gscv.best_estimator_\n",
    "\n",
    "# Predict\n",
    "y_pred = best_knn.predict(X_test)\n",
    "\n",
    "# Evaluate\n",
    "print(classification_report(y_test, y_pred))"
   ]
  },
  {
   "cell_type": "code",
   "execution_count": 192,
   "id": "1599c5fb",
   "metadata": {},
   "outputs": [
    {
     "data": {
      "image/png": "[encoded data removed]",
      "text/plain": [
       "<Figure size 1000x600 with 1 Axes>"
      ]
     },
     "metadata": {},
     "output_type": "display_data"
    }
   ],
   "source": [
    "# Visualisasi distribusi Glucose untuk kedua kelompok\n",
    "plt.figure(figsize=(10, 6))\n",
    "sns.histplot(diabetes_data['Glucose'][diabetes_data['Outcome'] == 1], color=\"darkturquoise\", label='Diabetes', kde=True)\n",
    "sns.histplot(diabetes_data['Glucose'][diabetes_data['Outcome'] == 0], color=\"lightcoral\", label='No Diabetes', kde=True)\n",
    "plt.legend()\n",
    "plt.title('Distribusi Glucose Berdasarkan Outcome')\n",
    "plt.xlabel('Glucose')\n",
    "plt.ylabel('Frequency')\n",
    "plt.show()"
   ]
  },
  {
   "cell_type": "code",
   "execution_count": 193,
   "id": "66b9452f",
   "metadata": {},
   "outputs": [
    {
     "name": "stdout",
     "output_type": "stream",
     "text": [
      "1.3.0\n"
     ]
    },
    {
     "data": {
      "text/plain": [
       "['knn_diabetes_model.joblib']"
      ]
     },
     "execution_count": 193,
     "metadata": {},
     "output_type": "execute_result"
    }
   ],
   "source": [
    "#34. save model using joblib\n",
    "from joblib import dump\n",
    "import sklearn\n",
    "print(sklearn.__version__)\n",
    "\n",
    "\n",
    "# Save trained model using joblib\n",
    "dump(classifier, 'knn_diabetes_model.joblib')\n"
   ]
  },
  {
   "cell_type": "code",
   "execution_count": 194,
   "id": "15e13a62",
   "metadata": {
    "execution": {
     "iopub.execute_input": "2022-10-12T06:14:13.563688Z",
     "iopub.status.busy": "2022-10-12T06:14:13.562679Z",
     "iopub.status.idle": "2022-10-12T06:14:15.370264Z",
     "shell.execute_reply": "2022-10-12T06:14:15.369290Z"
    },
    "papermill": {
     "duration": 1.849804,
     "end_time": "2022-10-12T06:14:15.372924",
     "exception": false,
     "start_time": "2022-10-12T06:14:13.523120",
     "status": "completed"
    },
    "tags": []
   },
   "outputs": [],
   "source": [
    "# 39. Code to collect accuracy as list for several k values, Mengumpulkan akurasi model untuk beberapa nilai K \n",
    "from sklearn.model_selection import cross_val_score\n",
    "accuracy_rate = []\n",
    "\n",
    "for i in range(1,25):\n",
    "  knn = KNeighborsClassifier(n_neighbors=i)\n",
    "  score=cross_val_score(knn, feat ,y_train, cv=8)\n",
    "  accuracy_rate.append(score.mean())"
   ]
  },
  {
   "cell_type": "code",
   "execution_count": 195,
   "id": "4b3ce619",
   "metadata": {
    "execution": {
     "iopub.execute_input": "2022-10-12T06:14:15.451398Z",
     "iopub.status.busy": "2022-10-12T06:14:15.450986Z",
     "iopub.status.idle": "2022-10-12T06:14:15.741343Z",
     "shell.execute_reply": "2022-10-12T06:14:15.740153Z"
    },
    "papermill": {
     "duration": 0.332442,
     "end_time": "2022-10-12T06:14:15.743712",
     "exception": false,
     "start_time": "2022-10-12T06:14:15.411270",
     "status": "completed"
    },
    "tags": []
   },
   "outputs": [
    {
     "data": {
      "text/plain": [
       "Text(0, 0.5, 'Accuracy Rate')"
      ]
     },
     "execution_count": 195,
     "metadata": {},
     "output_type": "execute_result"
    },
    {
     "data": {
      "image/png": "[encoded data removed]",
      "text/plain": [
       "<Figure size 1000x600 with 1 Axes>"
      ]
     },
     "metadata": {},
     "output_type": "display_data"
    }
   ],
   "source": [
    "#40. Code to plot accuracy against that k\n",
    "plt.figure(figsize=(10,6))\n",
    "\n",
    "plt.plot(range(1,25),accuracy_rate,color='blue', linest yle='dashed', marker='o',\n",
    "         markerfacecolor='red', markersize=10)\n",
    "plt.title('Accuracy Rate vs. K Value')\n",
    "plt.xlabel('K-Value')\n",
    "plt.ylabel('Accuracy Rate')"
   ]
  },
  {
   "cell_type": "code",
   "execution_count": 196,
   "id": "5a286282",
   "metadata": {
    "execution": {
     "iopub.execute_input": "2022-10-12T06:14:15.824276Z",
     "iopub.status.busy": "2022-10-12T06:14:15.823588Z",
     "iopub.status.idle": "2022-10-12T06:14:17.451885Z",
     "shell.execute_reply": "2022-10-12T06:14:17.450715Z"
    },
    "papermill": {
     "duration": 1.672032,
     "end_time": "2022-10-12T06:14:17.454407",
     "exception": false,
     "start_time": "2022-10-12T06:14:15.782375",
     "status": "completed"
    },
    "tags": []
   },
   "outputs": [],
   "source": [
    "#41. Like accuracy we can have plot for error rate also.\n",
    "error_rate = []\n",
    "for i in range(1,25):\n",
    "  knn = KNeighborsClassifier(n_neighbors=i)\n",
    "  score=cross_val_score(knn, feat, y_train, cv=9)\n",
    "  error_rate.append(1-score.mean())"
   ]
  },
  {
   "cell_type": "markdown",
   "id": "fd87e7be",
   "metadata": {
    "papermill": {
     "duration": 0.039528,
     "end_time": "2022-10-12T06:14:17.909571",
     "exception": false,
     "start_time": "2022-10-12T06:14:17.870043",
     "status": "completed"
    },
    "tags": []
   },
   "source": [
    "**In this kernel, we have performed Exploratory Data Analysis, Data Preprocessing, Visualization of Features, and KNN Model Building. Please give an upvote, if you like & find this kernel helpful. Thank You.** "
   ]
  },
  {
   "cell_type": "code",
   "execution_count": 197,
   "id": "6b8b0afa",
   "metadata": {},
   "outputs": [
    {
     "name": "stdout",
     "output_type": "stream",
     "text": [
      "Requirement already satisfied: streamlit in c:\\users\\paisal tanjung\\appdata\\local\\programs\\python\\python311\\lib\\site-packages (1.42.2)\n",
      "Requirement already satisfied: altair<6,>=4.0 in c:\\users\\paisal tanjung\\appdata\\local\\programs\\python\\python311\\lib\\site-packages (from streamlit) (5.5.0)\n",
      "Requirement already satisfied: blinker<2,>=1.0.0 in c:\\users\\paisal tanjung\\appdata\\local\\programs\\python\\python311\\lib\\site-packages (from streamlit) (1.9.0)\n",
      "Requirement already satisfied: cachetools<6,>=4.0 in c:\\users\\paisal tanjung\\appdata\\local\\programs\\python\\python311\\lib\\site-packages (from streamlit) (5.5.2)\n",
      "Requirement already satisfied: click<9,>=7.0 in c:\\users\\paisal tanjung\\appdata\\local\\programs\\python\\python311\\lib\\site-packages (from streamlit) (8.1.8)\n",
      "Requirement already satisfied: numpy<3,>=1.23 in c:\\users\\paisal tanjung\\appdata\\local\\programs\\python\\python311\\lib\\site-packages (from streamlit) (1.26.2)\n",
      "Requirement already satisfied: packaging<25,>=20 in c:\\users\\paisal tanjung\\appdata\\local\\programs\\python\\python311\\lib\\site-packages (from streamlit) (24.2)\n",
      "Requirement already satisfied: pandas<3,>=1.4.0 in c:\\users\\paisal tanjung\\appdata\\local\\programs\\python\\python311\\lib\\site-packages (from streamlit) (2.2.3)\n",
      "Requirement already satisfied: pillow<12,>=7.1.0 in c:\\users\\paisal tanjung\\appdata\\local\\programs\\python\\python311\\lib\\site-packages (from streamlit) (11.1.0)\n",
      "Requirement already satisfied: protobuf<6,>=3.20 in c:\\users\\paisal tanjung\\appdata\\local\\programs\\python\\python311\\lib\\site-packages (from streamlit) (5.29.3)\n",
      "Requirement already satisfied: pyarrow>=7.0 in c:\\users\\paisal tanjung\\appdata\\local\\programs\\python\\python311\\lib\\site-packages (from streamlit) (19.0.1)\n",
      "Requirement already satisfied: requests<3,>=2.27 in c:\\users\\paisal tanjung\\appdata\\local\\programs\\python\\python311\\lib\\site-packages (from streamlit) (2.32.3)\n",
      "Requirement already satisfied: rich<14,>=10.14.0 in c:\\users\\paisal tanjung\\appdata\\local\\programs\\python\\python311\\lib\\site-packages (from streamlit) (13.9.4)\n",
      "Requirement already satisfied: tenacity<10,>=8.1.0 in c:\\users\\paisal tanjung\\appdata\\local\\programs\\python\\python311\\lib\\site-packages (from streamlit) (9.0.0)\n",
      "Requirement already satisfied: toml<2,>=0.10.1 in c:\\users\\paisal tanjung\\appdata\\local\\programs\\python\\python311\\lib\\site-packages (from streamlit) (0.10.2)\n",
      "Requirement already satisfied: typing-extensions<5,>=4.4.0 in c:\\users\\paisal tanjung\\appdata\\local\\programs\\python\\python311\\lib\\site-packages (from streamlit) (4.12.2)\n",
      "Requirement already satisfied: watchdog<7,>=2.1.5 in c:\\users\\paisal tanjung\\appdata\\local\\programs\\python\\python311\\lib\\site-packages (from streamlit) (6.0.0)\n",
      "Requirement already satisfied: gitpython!=3.1.19,<4,>=3.0.7 in c:\\users\\paisal tanjung\\appdata\\local\\programs\\python\\python311\\lib\\site-packages (from streamlit) (3.1.44)\n",
      "Requirement already satisfied: pydeck<1,>=0.8.0b4 in c:\\users\\paisal tanjung\\appdata\\local\\programs\\python\\python311\\lib\\site-packages (from streamlit) (0.9.1)\n",
      "Requirement already satisfied: tornado<7,>=6.0.3 in c:\\users\\paisal tanjung\\appdata\\local\\programs\\python\\python311\\lib\\site-packages (from streamlit) (6.4.2)\n",
      "Requirement already satisfied: jinja2 in c:\\users\\paisal tanjung\\appdata\\local\\programs\\python\\python311\\lib\\site-packages (from altair<6,>=4.0->streamlit) (3.1.5)\n",
      "Requirement already satisfied: jsonschema>=3.0 in c:\\users\\paisal tanjung\\appdata\\local\\programs\\python\\python311\\lib\\site-packages (from altair<6,>=4.0->streamlit) (4.23.0)\n",
      "Requirement already satisfied: narwhals>=1.14.2 in c:\\users\\paisal tanjung\\appdata\\local\\programs\\python\\python311\\lib\\site-packages (from altair<6,>=4.0->streamlit) (1.27.1)\n",
      "Requirement already satisfied: colorama in c:\\users\\paisal tanjung\\appdata\\local\\programs\\python\\python311\\lib\\site-packages (from click<9,>=7.0->streamlit) (0.4.6)\n",
      "Requirement already satisfied: gitdb<5,>=4.0.1 in c:\\users\\paisal tanjung\\appdata\\local\\programs\\python\\python311\\lib\\site-packages (from gitpython!=3.1.19,<4,>=3.0.7->streamlit) (4.0.12)\n",
      "Requirement already satisfied: python-dateutil>=2.8.2 in c:\\users\\paisal tanjung\\appdata\\local\\programs\\python\\python311\\lib\\site-packages (from pandas<3,>=1.4.0->streamlit) (2.9.0.post0)\n",
      "Requirement already satisfied: pytz>=2020.1 in c:\\users\\paisal tanjung\\appdata\\local\\programs\\python\\python311\\lib\\site-packages (from pandas<3,>=1.4.0->streamlit) (2025.1)\n",
      "Requirement already satisfied: tzdata>=2022.7 in c:\\users\\paisal tanjung\\appdata\\local\\programs\\python\\python311\\lib\\site-packages (from pandas<3,>=1.4.0->streamlit) (2025.1)\n",
      "Requirement already satisfied: charset-normalizer<4,>=2 in c:\\users\\paisal tanjung\\appdata\\local\\programs\\python\\python311\\lib\\site-packages (from requests<3,>=2.27->streamlit) (3.4.1)\n",
      "Requirement already satisfied: idna<4,>=2.5 in c:\\users\\paisal tanjung\\appdata\\local\\programs\\python\\python311\\lib\\site-packages (from requests<3,>=2.27->streamlit) (3.10)\n",
      "Requirement already satisfied: urllib3<3,>=1.21.1 in c:\\users\\paisal tanjung\\appdata\\local\\programs\\python\\python311\\lib\\site-packages (from requests<3,>=2.27->streamlit) (2.3.0)\n",
      "Requirement already satisfied: certifi>=2017.4.17 in c:\\users\\paisal tanjung\\appdata\\local\\programs\\python\\python311\\lib\\site-packages (from requests<3,>=2.27->streamlit) (2025.1.31)\n",
      "Requirement already satisfied: markdown-it-py>=2.2.0 in c:\\users\\paisal tanjung\\appdata\\local\\programs\\python\\python311\\lib\\site-packages (from rich<14,>=10.14.0->streamlit) (3.0.0)\n",
      "Requirement already satisfied: pygments<3.0.0,>=2.13.0 in c:\\users\\paisal tanjung\\appdata\\local\\programs\\python\\python311\\lib\\site-packages (from rich<14,>=10.14.0->streamlit) (2.19.1)\n",
      "Requirement already satisfied: smmap<6,>=3.0.1 in c:\\users\\paisal tanjung\\appdata\\local\\programs\\python\\python311\\lib\\site-packages (from gitdb<5,>=4.0.1->gitpython!=3.1.19,<4,>=3.0.7->streamlit) (5.0.2)\n",
      "Requirement already satisfied: MarkupSafe>=2.0 in c:\\users\\paisal tanjung\\appdata\\local\\programs\\python\\python311\\lib\\site-packages (from jinja2->altair<6,>=4.0->streamlit) (3.0.2)\n",
      "Requirement already satisfied: attrs>=22.2.0 in c:\\users\\paisal tanjung\\appdata\\local\\programs\\python\\python311\\lib\\site-packages (from jsonschema>=3.0->altair<6,>=4.0->streamlit) (25.1.0)\n",
      "Requirement already satisfied: jsonschema-specifications>=2023.03.6 in c:\\users\\paisal tanjung\\appdata\\local\\programs\\python\\python311\\lib\\site-packages (from jsonschema>=3.0->altair<6,>=4.0->streamlit) (2024.10.1)\n",
      "Requirement already satisfied: referencing>=0.28.4 in c:\\users\\paisal tanjung\\appdata\\local\\programs\\python\\python311\\lib\\site-packages (from jsonschema>=3.0->altair<6,>=4.0->streamlit) (0.36.2)\n",
      "Requirement already satisfied: rpds-py>=0.7.1 in c:\\users\\paisal tanjung\\appdata\\local\\programs\\python\\python311\\lib\\site-packages (from jsonschema>=3.0->altair<6,>=4.0->streamlit) (0.23.1)\n",
      "Requirement already satisfied: mdurl~=0.1 in c:\\users\\paisal tanjung\\appdata\\local\\programs\\python\\python311\\lib\\site-packages (from markdown-it-py>=2.2.0->rich<14,>=10.14.0->streamlit) (0.1.2)\n",
      "Requirement already satisfied: six>=1.5 in c:\\users\\paisal tanjung\\appdata\\local\\programs\\python\\python311\\lib\\site-packages (from python-dateutil>=2.8.2->pandas<3,>=1.4.0->streamlit) (1.17.0)\n"
     ]
    }
   ],
   "source": [
    "!pip install streamlit"
   ]
  }
 ],
 "metadata": {
  "kernelspec": {
   "display_name": "Python 3",
   "language": "python",
   "name": "python3"
  },
  "language_info": {
   "codemirror_mode": {
    "name": "ipython",
    "version": 3
   },
   "file_extension": ".py",
   "mimetype": "text/x-python",
   "name": "python",
   "nbconvert_exporter": "python",
   "pygments_lexer": "ipython3",
   "version": "3.11.8"
  },
  "papermill": {
   "default_parameters": {},
   "duration": 47.504233,
   "end_time": "2022-10-12T06:14:19.072341",
   "environment_variables": {},
   "exception": null,
   "input_path": "__notebook__.ipynb",
   "output_path": "__notebook__.ipynb",
   "parameters": {},
   "start_time": "2022-10-12T06:13:31.568108",
   "version": "2.3.4"
  }
 },
 "nbformat": 4,
 "nbformat_minor": 5
}
